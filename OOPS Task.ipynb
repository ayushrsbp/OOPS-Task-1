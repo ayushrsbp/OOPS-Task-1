{
 "cells": [
  {
   "cell_type": "code",
   "execution_count": 3,
   "id": "39278da2-7203-49bc-90af-cb8f21280407",
   "metadata": {},
   "outputs": [],
   "source": [
    "# Q1.\n",
    "class vehicle :\n",
    "    def __init__(self, vehicle_name, max_speed, avg_of_vehicle):\n",
    "        self.name_of_vehicle = vehicle_name\n",
    "        self.max_speed = max_speed\n",
    "        self.average_of_vehicle = avg_of_vehicle"
   ]
  },
  {
   "cell_type": "code",
   "execution_count": 5,
   "id": "578292ad-f000-4475-b421-5987b8c32202",
   "metadata": {},
   "outputs": [],
   "source": [
    "# Q2.\n",
    "class car(vehicle):\n",
    "    def seating_capacity(self, capacity):\n",
    "        return self.name_of_vehicle, capacity"
   ]
  },
  {
   "cell_type": "code",
   "execution_count": 8,
   "id": "50d8ac25-f5c8-4c9c-9341-8e3297925202",
   "metadata": {},
   "outputs": [],
   "source": [
    "# Q3.\n",
    "#Inherit of different instance, methods or property of different class into a single class is known as multiple inheritance.\n",
    "class students:\n",
    "    def __init__(self, no_of_students):\n",
    "        self.no_of_students = no_of_students\n",
    "        \n",
    "    def student_details(self):\n",
    "        return self.no_of_students\n",
    "    \n",
    "class professors:\n",
    "    def __init__(self, no_of_professors):\n",
    "        self.no_of_professors = no_of_professors\n",
    "        \n",
    "    def prof_details(self):\n",
    "        return self.no_of_professors\n",
    "    \n",
    "class college(students, professors):\n",
    "    \n",
    "    def college_details(self):\n",
    "        print(\"No. of students =\", self.no_of_students)\n",
    "        print(\"No. of professors =\", self.no_of_professors)"
   ]
  },
  {
   "cell_type": "code",
   "execution_count": 10,
   "id": "b30f5ab7-9c75-45fb-ae8e-754cdbb206bf",
   "metadata": {},
   "outputs": [],
   "source": [
    "# Q4.\n",
    "#some instances of a class are encapsulated, which can't be access from outside the class. To change the value of the instance we create a function, known as setter and to get the value of the instance we create a function, known as getter.\n",
    "\n",
    "class Instagram:\n",
    "    def __init__(self, username, password):\n",
    "        self.__username = username\n",
    "        self.__password = password\n",
    "        \n",
    "    def reset_password(self, new_password):          ## Setter\n",
    "        self.__password = new_password\n",
    "        print(\"Password is reset successfully\")\n",
    "        \n",
    "    def userID(self):                                ## Getter\n",
    "        print(self.__username)"
   ]
  },
  {
   "cell_type": "code",
   "execution_count": 1,
   "id": "2080ec12-d94b-4512-abc6-b3d31a75a2c4",
   "metadata": {},
   "outputs": [],
   "source": [
    "# Q5.\n",
    "# When a method with the same name and same parameters is created in the same subclass of the parent class, this capability is known as method overriding. The subclass must inherit the properties of parent class.\n",
    "\n",
    "class schools:\n",
    "    def open_time():\n",
    "        print(\"The time of open of schools is 06:00 AM.\")\n",
    "        \n",
    "class primary_schools(schools):\n",
    "    def open_time():\n",
    "        print(\"The time of open of primary schools is 08:00 AM.\")"
   ]
  },
  {
   "cell_type": "code",
   "execution_count": null,
   "id": "b4441b50-bd8d-437c-920d-a3ea45b27858",
   "metadata": {},
   "outputs": [],
   "source": []
  }
 ],
 "metadata": {
  "kernelspec": {
   "display_name": "Python 3 (ipykernel)",
   "language": "python",
   "name": "python3"
  },
  "language_info": {
   "codemirror_mode": {
    "name": "ipython",
    "version": 3
   },
   "file_extension": ".py",
   "mimetype": "text/x-python",
   "name": "python",
   "nbconvert_exporter": "python",
   "pygments_lexer": "ipython3",
   "version": "3.10.8"
  }
 },
 "nbformat": 4,
 "nbformat_minor": 5
}
